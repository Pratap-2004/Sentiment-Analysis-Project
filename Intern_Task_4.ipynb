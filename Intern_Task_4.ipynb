{
  "cells": [
    {
      "cell_type": "markdown",
      "metadata": {
        "id": "W8JWqGsOP8Jm"
      },
      "source": [
        "### **Analyze and visualize sentiment patterns in social media data to understand public opinion and attitudes towards specific topics or brands.**\n",
        "\n"
      ]
    },
    {
      "cell_type": "markdown",
      "metadata": {
        "id": "8w6ECOfOQT1c"
      },
      "source": [
        "**1. import Libraries**\n",
        "\n",
        "---\n",
        "\n"
      ]
    },
    {
      "cell_type": "code",
      "execution_count": 12,
      "metadata": {
        "id": "uGVlsslfFstG"
      },
      "outputs": [],
      "source": [
        "import pandas as pd\n",
        "from textblob import TextBlob\n",
        "import matplotlib.pyplot as plt\n",
        "import seaborn as sns\n",
        "import requests\n",
        "from io import StringIO"
      ]
    },
    {
      "cell_type": "markdown",
      "metadata": {
        "id": "iEF9c6mCFwu0"
      },
      "source": [
        "**2. Upload the Dataset**"
      ]
    },
    {
      "cell_type": "code",
      "execution_count": 6,
      "metadata": {
        "colab": {
          "base_uri": "https://localhost:8080/"
        },
        "id": "pDXZfL72FtpZ",
        "outputId": "06f13317-c075-46e1-8d7b-f298eb671bf3"
      },
      "outputs": [
        {
          "output_type": "stream",
          "name": "stdout",
          "text": [
            "  label                                               text\n",
            "0   ham  Go until jurong point, crazy.. Available only ...\n",
            "1   ham                      Ok lar... Joking wif u oni...\n",
            "2  spam  Free entry in 2 a wkly comp to win FA Cup fina...\n",
            "3   ham  U dun say so early hor... U c already then say...\n",
            "4   ham  Nah I don't think he goes to usf, he lives aro...\n"
          ]
        }
      ],
      "source": [
        "# Define the URL of the dataset\n",
        "url = 'https://archive.ics.uci.edu/ml/machine-learning-databases/00228/smsspamcollection.zip'\n",
        "\n",
        "# Download the dataset\n",
        "response = requests.get(url)\n",
        "with open('smsspamcollection.zip', 'wb') as file:\n",
        "    file.write(response.content)\n",
        "\n",
        "# Unzip the dataset\n",
        "import zipfile\n",
        "with zipfile.ZipFile('smsspamcollection.zip', 'r') as zip_ref:\n",
        "    zip_ref.extractall('.')\n",
        "\n",
        "# Load the dataset into a DataFrame\n",
        "df = pd.read_csv('SMSSpamCollection', sep='\\t', header=None, names=['label', 'text'])\n",
        "\n",
        "# Display the first few rows of the DataFrame\n",
        "print(df.head())\n"
      ]
    },
    {
      "cell_type": "markdown",
      "source": [
        "**3. Inspect the DataFrame**\n",
        "\n",
        "---\n",
        "\n"
      ],
      "metadata": {
        "id": "G0fG8LdtQYLl"
      }
    },
    {
      "cell_type": "code",
      "execution_count": 7,
      "metadata": {
        "id": "ALLApkXEG8Ut",
        "colab": {
          "base_uri": "https://localhost:8080/"
        },
        "outputId": "41ce3025-2f17-46fa-edb2-d0c8e47595a2"
      },
      "outputs": [
        {
          "output_type": "stream",
          "name": "stdout",
          "text": [
            "Index(['label', 'text'], dtype='object')\n",
            "  label                                               text\n",
            "0   ham  Go until jurong point, crazy.. Available only ...\n",
            "1   ham                      Ok lar... Joking wif u oni...\n",
            "2  spam  Free entry in 2 a wkly comp to win FA Cup fina...\n",
            "3   ham  U dun say so early hor... U c already then say...\n",
            "4   ham  Nah I don't think he goes to usf, he lives aro...\n"
          ]
        }
      ],
      "source": [
        "# Inspect the column names and data\n",
        "print(df.columns)\n",
        "print(df.head())\n"
      ]
    },
    {
      "cell_type": "markdown",
      "source": [
        "**4. Apply Sentiment Analysis**\n",
        "\n",
        "---\n",
        "\n"
      ],
      "metadata": {
        "id": "R1t2JUKOQhWJ"
      }
    },
    {
      "cell_type": "code",
      "source": [
        "# Map the label to sentiment\n",
        "df['predicted_sentiment'] = df['label'].map({'ham': 'positive', 'spam': 'negative'})\n",
        "\n",
        "# Display the updated dataset\n",
        "print(df.head())\n"
      ],
      "metadata": {
        "colab": {
          "base_uri": "https://localhost:8080/"
        },
        "id": "xUgjfzmBQmE9",
        "outputId": "c273df4c-3029-4d92-cc1f-6109c45c4a78"
      },
      "execution_count": 8,
      "outputs": [
        {
          "output_type": "stream",
          "name": "stdout",
          "text": [
            "  label                                               text predicted_sentiment\n",
            "0   ham  Go until jurong point, crazy.. Available only ...            positive\n",
            "1   ham                      Ok lar... Joking wif u oni...            positive\n",
            "2  spam  Free entry in 2 a wkly comp to win FA Cup fina...            negative\n",
            "3   ham  U dun say so early hor... U c already then say...            positive\n",
            "4   ham  Nah I don't think he goes to usf, he lives aro...            positive\n"
          ]
        }
      ]
    },
    {
      "cell_type": "markdown",
      "source": [
        "**5. Data Visualization**\n",
        "\n",
        "---\n",
        "\n"
      ],
      "metadata": {
        "id": "7jjuPhb3Qqxm"
      }
    },
    {
      "cell_type": "code",
      "source": [
        "# Count the number of each sentiment\n",
        "sentiment_counts = df['predicted_sentiment'].value_counts()\n",
        "\n",
        "# Create a bar plot\n",
        "plt.figure(figsize=(8, 6))\n",
        "sns.barplot(x=sentiment_counts.index, y=sentiment_counts.values, palette='viridis')\n",
        "plt.title('Sentiment Distribution')\n",
        "plt.xlabel('Sentiment')\n",
        "plt.ylabel('Number of Messages')\n",
        "plt.show()\n"
      ],
      "metadata": {
        "colab": {
          "base_uri": "https://localhost:8080/",
          "height": 671
        },
        "id": "Dw9FGM6nQxZS",
        "outputId": "e5bbb028-d099-4c74-976e-b4c9f928a899"
      },
      "execution_count": 9,
      "outputs": [
        {
          "output_type": "stream",
          "name": "stderr",
          "text": [
            "<ipython-input-9-86da8afdeb3e>:6: FutureWarning: \n",
            "\n",
            "Passing `palette` without assigning `hue` is deprecated and will be removed in v0.14.0. Assign the `x` variable to `hue` and set `legend=False` for the same effect.\n",
            "\n",
            "  sns.barplot(x=sentiment_counts.index, y=sentiment_counts.values, palette='viridis')\n"
          ]
        },
        {
          "output_type": "display_data",
          "data": {
            "text/plain": [
              "<Figure size 800x600 with 1 Axes>"
            ],
            "image/png": "[encoded data removed]"
          },
          "metadata": {}
        }
      ]
    }
  ],
  "metadata": {
    "colab": {
      "provenance": []
    },
    "kernelspec": {
      "display_name": "Python 3",
      "name": "python3"
    },
    "language_info": {
      "name": "python"
    }
  },
  "nbformat": 4,
  "nbformat_minor": 0
}